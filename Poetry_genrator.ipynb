{
  "nbformat": 4,
  "nbformat_minor": 0,
  "metadata": {
    "colab": {
      "provenance": [],
      "gpuType": "T4"
    },
    "kernelspec": {
      "name": "python3",
      "display_name": "Python 3"
    },
    "language_info": {
      "name": "python"
    },
    "accelerator": "GPU"
  },
  "cells": [
    {
      "cell_type": "code",
      "execution_count": null,
      "metadata": {
        "id": "lzgNLNFARn23",
        "colab": {
          "base_uri": "https://localhost:8080/"
        },
        "outputId": "a133f8a9-1db6-4235-b794-25dce26b808b"
      },
      "outputs": [
        {
          "output_type": "stream",
          "name": "stdout",
          "text": [
            "Using device: cuda\n"
          ]
        }
      ],
      "source": [
        "import numpy as np\n",
        "import pandas as pd\n",
        "import torch\n",
        "import torch.nn as nn\n",
        "from torch.utils.data import Dataset, DataLoader\n",
        "from sklearn.model_selection import train_test_split\n",
        "from collections import Counter\n",
        "import re\n",
        "import random\n",
        "\n",
        "device = torch.device(\"cuda\" if torch.cuda.is_available() else \"cpu\")\n",
        "print(f\"Using device: {device}\")\n",
        "\n",
        "# Loading and preprocess the data\n",
        "data_file = \"rekhta_sher_poetry.csv\"\n",
        "data = pd.read_csv(data_file)\n",
        "\n",
        "# Cleaning the dataset\n",
        "def clean_text(text):\n",
        "    # Removing non-Roman Urdu characters and extra spaces\n",
        "    text = re.sub(r\"[^a-zA-Z0-9\\s'.,!?\\-]\", \"\", text)\n",
        "    text = re.sub(r\"\\s+\", \" \", text).strip()  # Removing extra spaces\n",
        "    return text\n",
        "\n",
        "data[\"Poetry\"] = data[\"Poetry\"].apply(clean_text)\n",
        "text = \" \".join(data[\"Poetry\"].dropna().tolist())\n",
        "\n",
        "# Tokenizing the text into words\n",
        "words = text.split()\n",
        "\n",
        "# Creating vocabulary without filtering\n",
        "word_counts = Counter(words)\n",
        "vocab = list(word_counts.keys())\n",
        "word2idx = {word: idx + 1 for idx, word in enumerate(vocab)}  # +1 for padding index\n",
        "idx2word = {idx: word for word, idx in word2idx.items()}\n",
        "vocab_size = len(word2idx) + 1  # +1 for padding index\n",
        "\n",
        "# Creating sequences\n",
        "seq_length = 20  # Fixed sequence length\n",
        "sequences = []\n",
        "for i in range(len(words) - seq_length):\n",
        "    seq = words[i:i + seq_length + 1]  # +1 to include the target word\n",
        "    sequences.append(seq)\n",
        "\n",
        "# Converting sequences to numerical format\n",
        "numerical_sequences = []\n",
        "for seq in sequences:\n",
        "    numerical_sequences.append([word2idx.get(word, 0) for word in seq])  # Use 0 for unknown words\n",
        "\n",
        "# Pad sequences\n",
        "padded_sequences = np.zeros((len(numerical_sequences), seq_length + 1), dtype=np.int32)\n",
        "for i, seq in enumerate(numerical_sequences):\n",
        "    padded_sequences[i, -len(seq):] = seq\n",
        "\n",
        "# Splitting predictors (X) and labels (y)\n",
        "X = padded_sequences[:, :-1]\n",
        "y = padded_sequences[:, -1]\n",
        "\n",
        "# Splitting into train and validation sets\n",
        "X_train, X_val, y_train, y_val = train_test_split(X, y, test_size=0.2, random_state=42)\n",
        "\n",
        "# Converting data to PyTorch tensors\n",
        "X_train = torch.tensor(X_train, dtype=torch.long).to(device)\n",
        "y_train = torch.tensor(y_train, dtype=torch.long).to(device)\n",
        "X_val = torch.tensor(X_val, dtype=torch.long).to(device)\n",
        "y_val = torch.tensor(y_val, dtype=torch.long).to(device)\n",
        "\n"
      ]
    },
    {
      "cell_type": "code",
      "source": [
        "# Defining the dataset and data loader\n",
        "class PoetryDataset(Dataset):\n",
        "    def __init__(self, X, y):\n",
        "        self.X = X\n",
        "        self.y = y\n",
        "\n",
        "    def __len__(self):\n",
        "        return len(self.X)\n",
        "\n",
        "    def __getitem__(self, idx):\n",
        "        return self.X[idx], self.y[idx]\n",
        "\n",
        "train_dataset = PoetryDataset(X_train, y_train)\n",
        "val_dataset = PoetryDataset(X_val, y_val)\n",
        "train_loader = DataLoader(train_dataset, batch_size=64, shuffle=True)\n",
        "val_loader = DataLoader(val_dataset, batch_size=64)\n",
        "\n",
        "# Defining the LSTM model\n",
        "class PoetryLSTM(nn.Module):\n",
        "    def __init__(self, vocab_size, embedding_dim, hidden_dim, output_dim, dropout_rate=0.3):\n",
        "        super(PoetryLSTM, self).__init__()\n",
        "        self.embedding = nn.Embedding(vocab_size, embedding_dim)\n",
        "        self.lstm = nn.LSTM(embedding_dim, hidden_dim, batch_first=True, num_layers=2, dropout=dropout_rate)\n",
        "        self.fc = nn.Linear(hidden_dim, output_dim)\n",
        "        self.dropout = nn.Dropout(dropout_rate)\n",
        "\n",
        "    def forward(self, x):\n",
        "        embedded = self.dropout(self.embedding(x))\n",
        "        lstm_out, _ = self.lstm(embedded)\n",
        "        output = self.fc(lstm_out[:, -1, :])  # Use the output of the last time step\n",
        "        return output\n",
        "\n",
        "embedding_dim = 256\n",
        "hidden_dim = 512\n",
        "output_dim = vocab_size\n",
        "dropout_rate = 0.3  # Increased dropout for better regularization\n",
        "model = PoetryLSTM(vocab_size, embedding_dim, hidden_dim, output_dim, dropout_rate).to(device)\n",
        "\n"
      ],
      "metadata": {
        "id": "MtLOBfG6R050"
      },
      "execution_count": null,
      "outputs": []
    },
    {
      "cell_type": "code",
      "source": [
        "# Defining loss and optimizer\n",
        "criterion = nn.CrossEntropyLoss()\n",
        "optimizer = torch.optim.Adam(model.parameters(), lr=0.001, weight_decay=1e-5)  # Added weight decay\n",
        "scheduler = torch.optim.lr_scheduler.ReduceLROnPlateau(optimizer, mode='min', factor=0.5, patience=5)\n",
        "\n",
        "# Training the model\n",
        "def train_model(model, train_loader, val_loader, criterion, optimizer, epochs=20):\n",
        "    best_val_loss = float('inf')\n",
        "    for epoch in range(epochs):\n",
        "        model.train()\n",
        "        train_loss = 0\n",
        "        for X_batch, y_batch in train_loader:\n",
        "            optimizer.zero_grad()\n",
        "            output = model(X_batch)\n",
        "            loss = criterion(output, y_batch)\n",
        "            loss.backward()\n",
        "            torch.nn.utils.clip_grad_norm_(model.parameters(), max_norm=1.0)  # Gradient clipping\n",
        "            optimizer.step()\n",
        "            train_loss += loss.item()\n",
        "\n",
        "        model.eval()\n",
        "        val_loss = 0\n",
        "        with torch.no_grad():\n",
        "            for X_batch, y_batch in val_loader:\n",
        "                output = model(X_batch)\n",
        "                loss = criterion(output, y_batch)\n",
        "                val_loss += loss.item()\n",
        "\n",
        "        # Learning rate scheduling\n",
        "        scheduler.step(val_loss)\n",
        "\n",
        "        print(f\"Epoch {epoch + 1}/{epochs}, Train Loss: {train_loss / len(train_loader):.4f}, Validation Loss: {val_loss / len(val_loader):.4f}\")\n",
        "\n",
        "        # Early stopping\n",
        "        if val_loss < best_val_loss:\n",
        "            best_val_loss = val_loss\n",
        "            torch.save(model.state_dict(), \"best_model.pth\")  # Save the best model\n",
        "\n",
        "train_model(model, train_loader, val_loader, criterion, optimizer, epochs=20)\n",
        "\n"
      ],
      "metadata": {
        "id": "Ms1UPJ2lR4B2",
        "colab": {
          "base_uri": "https://localhost:8080/"
        },
        "outputId": "6567455b-21d9-4f76-edbc-b82a44ae64da"
      },
      "execution_count": null,
      "outputs": [
        {
          "output_type": "stream",
          "name": "stdout",
          "text": [
            "Epoch 1/20, Train Loss: 6.8397, Validation Loss: 6.4407\n",
            "Epoch 2/20, Train Loss: 6.2009, Validation Loss: 6.1163\n",
            "Epoch 3/20, Train Loss: 5.6760, Validation Loss: 5.8867\n",
            "Epoch 4/20, Train Loss: 5.0917, Validation Loss: 5.7014\n",
            "Epoch 5/20, Train Loss: 4.4925, Validation Loss: 5.5672\n",
            "Epoch 6/20, Train Loss: 3.9241, Validation Loss: 5.4701\n",
            "Epoch 7/20, Train Loss: 3.4206, Validation Loss: 5.4176\n",
            "Epoch 8/20, Train Loss: 2.9902, Validation Loss: 5.3868\n",
            "Epoch 9/20, Train Loss: 2.6308, Validation Loss: 5.3853\n",
            "Epoch 10/20, Train Loss: 2.3268, Validation Loss: 5.4013\n",
            "Epoch 11/20, Train Loss: 2.0886, Validation Loss: 5.4402\n",
            "Epoch 12/20, Train Loss: 1.8868, Validation Loss: 5.4810\n",
            "Epoch 13/20, Train Loss: 1.7227, Validation Loss: 5.5160\n",
            "Epoch 14/20, Train Loss: 1.5829, Validation Loss: 5.5684\n",
            "Epoch 15/20, Train Loss: 1.4799, Validation Loss: 5.5886\n",
            "Epoch 16/20, Train Loss: 1.0175, Validation Loss: 5.5708\n",
            "Epoch 17/20, Train Loss: 0.8698, Validation Loss: 5.5905\n",
            "Epoch 18/20, Train Loss: 0.7914, Validation Loss: 5.6328\n",
            "Epoch 19/20, Train Loss: 0.7338, Validation Loss: 5.6522\n",
            "Epoch 20/20, Train Loss: 0.6828, Validation Loss: 5.6920\n"
          ]
        }
      ]
    },
    {
      "cell_type": "code",
      "source": [
        "# Generating poetry with temperature sampling\n",
        "def generate_poetry(seed_text, next_words=20, temperature=1.0):\n",
        "    model.eval()\n",
        "    words = seed_text.split()\n",
        "    for _ in range(next_words):\n",
        "        tokenized_input = [word2idx.get(word, 0) for word in words[-seq_length:]]  # Use last `seq_length` words\n",
        "        input_seq = torch.tensor(tokenized_input, dtype=torch.long).unsqueeze(0).to(device)\n",
        "        with torch.no_grad():\n",
        "            output = model(input_seq)\n",
        "        output_dist = output.div(temperature).exp()  # Apply temperature\n",
        "        predicted_idx = torch.multinomial(output_dist, num_samples=1).item()  # Sample from the distribution\n",
        "        predicted_word = idx2word.get(predicted_idx, \"\")\n",
        "        if predicted_word == \"\":  # Skiping unknown words\n",
        "            continue\n",
        "        words.append(predicted_word)\n",
        "    return \" \".join(words)\n",
        "\n",
        "#  Generate poetry with temperature sampling\n",
        "seed_text = \"boss\"\n",
        "print(\"Generated Poetry:\")\n",
        "print(generate_poetry(seed_text, next_words=20, temperature=0.8))  # Adjusting temperature for diversity\n",
        "\n"
      ],
      "metadata": {
        "id": "XGGw01ydR87X",
        "colab": {
          "base_uri": "https://localhost:8080/"
        },
        "outputId": "d1a1fb9a-bc41-4c86-db40-842ff282b1e1"
      },
      "execution_count": null,
      "outputs": [
        {
          "output_type": "stream",
          "name": "stdout",
          "text": [
            "Generated Poetry:\n",
            "boss gentrified ka Khufiyaa faqiron ke chaman ka hai dhup to aisa is taraf ke putla khane se is qadar phal\n"
          ]
        }
      ]
    },
    {
      "cell_type": "code",
      "source": [
        "# Evaluate the model\n",
        "def calculate_perplexity(model, data_loader, criterion):\n",
        "    model.eval()\n",
        "    total_loss = 0\n",
        "    total_words = 0\n",
        "    with torch.no_grad():\n",
        "        for X_batch, y_batch in data_loader:\n",
        "            output = model(X_batch)\n",
        "            loss = criterion(output, y_batch)\n",
        "            total_loss += loss.item() * X_batch.size(0)\n",
        "            total_words += X_batch.size(0)\n",
        "    perplexity = torch.exp(torch.tensor(total_loss / total_words))\n",
        "    return perplexity.item()\n",
        "\n",
        "val_perplexity = calculate_perplexity(model, val_loader, criterion)\n",
        "print(f\"Validation Perplexity: {val_perplexity:.4f}\")"
      ],
      "metadata": {
        "id": "wkVXPm_YSBFe",
        "colab": {
          "base_uri": "https://localhost:8080/"
        },
        "outputId": "6cb6b874-92cd-46a2-e409-08b8b91cde2b"
      },
      "execution_count": null,
      "outputs": [
        {
          "output_type": "stream",
          "name": "stdout",
          "text": [
            "Validation Perplexity: 296.2422\n"
          ]
        }
      ]
    },
    {
      "cell_type": "code",
      "source": [
        "pip install gradio\n"
      ],
      "metadata": {
        "id": "El2F3su2X8fb",
        "colab": {
          "base_uri": "https://localhost:8080/"
        },
        "collapsed": true,
        "outputId": "b38c1ab1-3ca0-4d52-d14e-9f72809bcf82"
      },
      "execution_count": null,
      "outputs": [
        {
          "output_type": "stream",
          "name": "stdout",
          "text": [
            "Collecting gradio\n",
            "  Downloading gradio-5.15.0-py3-none-any.whl.metadata (16 kB)\n",
            "Collecting aiofiles<24.0,>=22.0 (from gradio)\n",
            "  Downloading aiofiles-23.2.1-py3-none-any.whl.metadata (9.7 kB)\n",
            "Requirement already satisfied: anyio<5.0,>=3.0 in /usr/local/lib/python3.11/dist-packages (from gradio) (3.7.1)\n",
            "Collecting fastapi<1.0,>=0.115.2 (from gradio)\n",
            "  Downloading fastapi-0.115.8-py3-none-any.whl.metadata (27 kB)\n",
            "Collecting ffmpy (from gradio)\n",
            "  Downloading ffmpy-0.5.0-py3-none-any.whl.metadata (3.0 kB)\n",
            "Collecting gradio-client==1.7.0 (from gradio)\n",
            "  Downloading gradio_client-1.7.0-py3-none-any.whl.metadata (7.1 kB)\n",
            "Requirement already satisfied: httpx>=0.24.1 in /usr/local/lib/python3.11/dist-packages (from gradio) (0.28.1)\n",
            "Requirement already satisfied: huggingface-hub>=0.28.1 in /usr/local/lib/python3.11/dist-packages (from gradio) (0.28.1)\n",
            "Requirement already satisfied: jinja2<4.0 in /usr/local/lib/python3.11/dist-packages (from gradio) (3.1.5)\n",
            "Collecting markupsafe~=2.0 (from gradio)\n",
            "  Downloading MarkupSafe-2.1.5-cp311-cp311-manylinux_2_17_x86_64.manylinux2014_x86_64.whl.metadata (3.0 kB)\n",
            "Requirement already satisfied: numpy<3.0,>=1.0 in /usr/local/lib/python3.11/dist-packages (from gradio) (1.26.4)\n",
            "Requirement already satisfied: orjson~=3.0 in /usr/local/lib/python3.11/dist-packages (from gradio) (3.10.15)\n",
            "Requirement already satisfied: packaging in /usr/local/lib/python3.11/dist-packages (from gradio) (24.2)\n",
            "Requirement already satisfied: pandas<3.0,>=1.0 in /usr/local/lib/python3.11/dist-packages (from gradio) (2.2.2)\n",
            "Requirement already satisfied: pillow<12.0,>=8.0 in /usr/local/lib/python3.11/dist-packages (from gradio) (11.1.0)\n",
            "Requirement already satisfied: pydantic>=2.0 in /usr/local/lib/python3.11/dist-packages (from gradio) (2.10.6)\n",
            "Collecting pydub (from gradio)\n",
            "  Downloading pydub-0.25.1-py2.py3-none-any.whl.metadata (1.4 kB)\n",
            "Collecting python-multipart>=0.0.18 (from gradio)\n",
            "  Downloading python_multipart-0.0.20-py3-none-any.whl.metadata (1.8 kB)\n",
            "Requirement already satisfied: pyyaml<7.0,>=5.0 in /usr/local/lib/python3.11/dist-packages (from gradio) (6.0.2)\n",
            "Collecting ruff>=0.9.3 (from gradio)\n",
            "  Downloading ruff-0.9.6-py3-none-manylinux_2_17_x86_64.manylinux2014_x86_64.whl.metadata (25 kB)\n",
            "Collecting safehttpx<0.2.0,>=0.1.6 (from gradio)\n",
            "  Downloading safehttpx-0.1.6-py3-none-any.whl.metadata (4.2 kB)\n",
            "Collecting semantic-version~=2.0 (from gradio)\n",
            "  Downloading semantic_version-2.10.0-py2.py3-none-any.whl.metadata (9.7 kB)\n",
            "Collecting starlette<1.0,>=0.40.0 (from gradio)\n",
            "  Downloading starlette-0.45.3-py3-none-any.whl.metadata (6.3 kB)\n",
            "Collecting tomlkit<0.14.0,>=0.12.0 (from gradio)\n",
            "  Downloading tomlkit-0.13.2-py3-none-any.whl.metadata (2.7 kB)\n",
            "Requirement already satisfied: typer<1.0,>=0.12 in /usr/local/lib/python3.11/dist-packages (from gradio) (0.15.1)\n",
            "Requirement already satisfied: typing-extensions~=4.0 in /usr/local/lib/python3.11/dist-packages (from gradio) (4.12.2)\n",
            "Collecting uvicorn>=0.14.0 (from gradio)\n",
            "  Downloading uvicorn-0.34.0-py3-none-any.whl.metadata (6.5 kB)\n",
            "Requirement already satisfied: fsspec in /usr/local/lib/python3.11/dist-packages (from gradio-client==1.7.0->gradio) (2024.10.0)\n",
            "Requirement already satisfied: websockets<15.0,>=10.0 in /usr/local/lib/python3.11/dist-packages (from gradio-client==1.7.0->gradio) (14.2)\n",
            "Requirement already satisfied: idna>=2.8 in /usr/local/lib/python3.11/dist-packages (from anyio<5.0,>=3.0->gradio) (3.10)\n",
            "Requirement already satisfied: sniffio>=1.1 in /usr/local/lib/python3.11/dist-packages (from anyio<5.0,>=3.0->gradio) (1.3.1)\n",
            "Requirement already satisfied: certifi in /usr/local/lib/python3.11/dist-packages (from httpx>=0.24.1->gradio) (2025.1.31)\n",
            "Requirement already satisfied: httpcore==1.* in /usr/local/lib/python3.11/dist-packages (from httpx>=0.24.1->gradio) (1.0.7)\n",
            "Requirement already satisfied: h11<0.15,>=0.13 in /usr/local/lib/python3.11/dist-packages (from httpcore==1.*->httpx>=0.24.1->gradio) (0.14.0)\n",
            "Requirement already satisfied: filelock in /usr/local/lib/python3.11/dist-packages (from huggingface-hub>=0.28.1->gradio) (3.17.0)\n",
            "Requirement already satisfied: requests in /usr/local/lib/python3.11/dist-packages (from huggingface-hub>=0.28.1->gradio) (2.32.3)\n",
            "Requirement already satisfied: tqdm>=4.42.1 in /usr/local/lib/python3.11/dist-packages (from huggingface-hub>=0.28.1->gradio) (4.67.1)\n",
            "Requirement already satisfied: python-dateutil>=2.8.2 in /usr/local/lib/python3.11/dist-packages (from pandas<3.0,>=1.0->gradio) (2.8.2)\n",
            "Requirement already satisfied: pytz>=2020.1 in /usr/local/lib/python3.11/dist-packages (from pandas<3.0,>=1.0->gradio) (2025.1)\n",
            "Requirement already satisfied: tzdata>=2022.7 in /usr/local/lib/python3.11/dist-packages (from pandas<3.0,>=1.0->gradio) (2025.1)\n",
            "Requirement already satisfied: annotated-types>=0.6.0 in /usr/local/lib/python3.11/dist-packages (from pydantic>=2.0->gradio) (0.7.0)\n",
            "Requirement already satisfied: pydantic-core==2.27.2 in /usr/local/lib/python3.11/dist-packages (from pydantic>=2.0->gradio) (2.27.2)\n",
            "Requirement already satisfied: click>=8.0.0 in /usr/local/lib/python3.11/dist-packages (from typer<1.0,>=0.12->gradio) (8.1.8)\n",
            "Requirement already satisfied: shellingham>=1.3.0 in /usr/local/lib/python3.11/dist-packages (from typer<1.0,>=0.12->gradio) (1.5.4)\n",
            "Requirement already satisfied: rich>=10.11.0 in /usr/local/lib/python3.11/dist-packages (from typer<1.0,>=0.12->gradio) (13.9.4)\n",
            "Requirement already satisfied: six>=1.5 in /usr/local/lib/python3.11/dist-packages (from python-dateutil>=2.8.2->pandas<3.0,>=1.0->gradio) (1.17.0)\n",
            "Requirement already satisfied: markdown-it-py>=2.2.0 in /usr/local/lib/python3.11/dist-packages (from rich>=10.11.0->typer<1.0,>=0.12->gradio) (3.0.0)\n",
            "Requirement already satisfied: pygments<3.0.0,>=2.13.0 in /usr/local/lib/python3.11/dist-packages (from rich>=10.11.0->typer<1.0,>=0.12->gradio) (2.18.0)\n",
            "Requirement already satisfied: charset-normalizer<4,>=2 in /usr/local/lib/python3.11/dist-packages (from requests->huggingface-hub>=0.28.1->gradio) (3.4.1)\n",
            "Requirement already satisfied: urllib3<3,>=1.21.1 in /usr/local/lib/python3.11/dist-packages (from requests->huggingface-hub>=0.28.1->gradio) (2.3.0)\n",
            "Requirement already satisfied: mdurl~=0.1 in /usr/local/lib/python3.11/dist-packages (from markdown-it-py>=2.2.0->rich>=10.11.0->typer<1.0,>=0.12->gradio) (0.1.2)\n",
            "Downloading gradio-5.15.0-py3-none-any.whl (57.8 MB)\n",
            "\u001b[2K   \u001b[90m━━━━━━━━━━━━━━━━━━━━━━━━━━━━━━━━━━━━━━━━\u001b[0m \u001b[32m57.8/57.8 MB\u001b[0m \u001b[31m13.4 MB/s\u001b[0m eta \u001b[36m0:00:00\u001b[0m\n",
            "\u001b[?25hDownloading gradio_client-1.7.0-py3-none-any.whl (321 kB)\n",
            "\u001b[2K   \u001b[90m━━━━━━━━━━━━━━━━━━━━━━━━━━━━━━━━━━━━━━━━\u001b[0m \u001b[32m321.9/321.9 kB\u001b[0m \u001b[31m26.5 MB/s\u001b[0m eta \u001b[36m0:00:00\u001b[0m\n",
            "\u001b[?25hDownloading aiofiles-23.2.1-py3-none-any.whl (15 kB)\n",
            "Downloading fastapi-0.115.8-py3-none-any.whl (94 kB)\n",
            "\u001b[2K   \u001b[90m━━━━━━━━━━━━━━━━━━━━━━━━━━━━━━━━━━━━━━━━\u001b[0m \u001b[32m94.8/94.8 kB\u001b[0m \u001b[31m10.3 MB/s\u001b[0m eta \u001b[36m0:00:00\u001b[0m\n",
            "\u001b[?25hDownloading MarkupSafe-2.1.5-cp311-cp311-manylinux_2_17_x86_64.manylinux2014_x86_64.whl (28 kB)\n",
            "Downloading python_multipart-0.0.20-py3-none-any.whl (24 kB)\n",
            "Downloading ruff-0.9.6-py3-none-manylinux_2_17_x86_64.manylinux2014_x86_64.whl (12.5 MB)\n",
            "\u001b[2K   \u001b[90m━━━━━━━━━━━━━━━━━━━━━━━━━━━━━━━━━━━━━━━━\u001b[0m \u001b[32m12.5/12.5 MB\u001b[0m \u001b[31m118.0 MB/s\u001b[0m eta \u001b[36m0:00:00\u001b[0m\n",
            "\u001b[?25hDownloading safehttpx-0.1.6-py3-none-any.whl (8.7 kB)\n",
            "Downloading semantic_version-2.10.0-py2.py3-none-any.whl (15 kB)\n",
            "Downloading starlette-0.45.3-py3-none-any.whl (71 kB)\n",
            "\u001b[2K   \u001b[90m━━━━━━━━━━━━━━━━━━━━━━━━━━━━━━━━━━━━━━━━\u001b[0m \u001b[32m71.5/71.5 kB\u001b[0m \u001b[31m7.7 MB/s\u001b[0m eta \u001b[36m0:00:00\u001b[0m\n",
            "\u001b[?25hDownloading tomlkit-0.13.2-py3-none-any.whl (37 kB)\n",
            "Downloading uvicorn-0.34.0-py3-none-any.whl (62 kB)\n",
            "\u001b[2K   \u001b[90m━━━━━━━━━━━━━━━━━━━━━━━━━━━━━━━━━━━━━━━━\u001b[0m \u001b[32m62.3/62.3 kB\u001b[0m \u001b[31m6.1 MB/s\u001b[0m eta \u001b[36m0:00:00\u001b[0m\n",
            "\u001b[?25hDownloading ffmpy-0.5.0-py3-none-any.whl (6.0 kB)\n",
            "Downloading pydub-0.25.1-py2.py3-none-any.whl (32 kB)\n",
            "Installing collected packages: pydub, uvicorn, tomlkit, semantic-version, ruff, python-multipart, markupsafe, ffmpy, aiofiles, starlette, safehttpx, gradio-client, fastapi, gradio\n",
            "  Attempting uninstall: markupsafe\n",
            "    Found existing installation: MarkupSafe 3.0.2\n",
            "    Uninstalling MarkupSafe-3.0.2:\n",
            "      Successfully uninstalled MarkupSafe-3.0.2\n",
            "Successfully installed aiofiles-23.2.1 fastapi-0.115.8 ffmpy-0.5.0 gradio-5.15.0 gradio-client-1.7.0 markupsafe-2.1.5 pydub-0.25.1 python-multipart-0.0.20 ruff-0.9.6 safehttpx-0.1.6 semantic-version-2.10.0 starlette-0.45.3 tomlkit-0.13.2 uvicorn-0.34.0\n"
          ]
        }
      ]
    },
    {
      "cell_type": "code",
      "source": [
        "import gradio as gr\n",
        "import torch\n",
        "import torch.nn as nn\n",
        "import numpy as np\n",
        "\n",
        "# Loading necessary components from training script\n",
        "vocab_size = len(word2idx) + 1  # +1 for padding index\n",
        "seq_length = 20  # Ensure it matches training\n",
        "\n",
        "device = torch.device(\"cuda\" if torch.cuda.is_available() else \"cpu\")\n",
        "\n",
        "# Defining the model class\n",
        "class PoetryLSTM(nn.Module):\n",
        "    def __init__(self, vocab_size, embedding_dim, hidden_dim, output_dim, dropout_rate=0.3):\n",
        "        super(PoetryLSTM, self).__init__()\n",
        "        self.embedding = nn.Embedding(vocab_size, embedding_dim)\n",
        "        self.lstm = nn.LSTM(embedding_dim, hidden_dim, batch_first=True, num_layers=2, dropout=dropout_rate)\n",
        "        self.fc = nn.Linear(hidden_dim, output_dim)\n",
        "        self.dropout = nn.Dropout(dropout_rate)\n",
        "\n",
        "    def forward(self, x):\n",
        "        embedded = self.dropout(self.embedding(x))\n",
        "        lstm_out, _ = self.lstm(embedded)\n",
        "        output = self.fc(lstm_out[:, -1, :])\n",
        "        return output\n",
        "\n",
        "# Loading the trained model\n",
        "embedding_dim = 256\n",
        "hidden_dim = 512\n",
        "dropout_rate = 0.3\n",
        "model = PoetryLSTM(vocab_size, embedding_dim, hidden_dim, vocab_size, dropout_rate).to(device)\n",
        "model.load_state_dict(torch.load(\"best_model.pth\", map_location=device))\n",
        "model.eval()\n",
        "\n",
        "# Poetry generation function\n",
        "def generate_poetry(seed_text, next_words=20, temperature=1.0):\n",
        "    words = seed_text.split()\n",
        "    for _ in range(next_words):\n",
        "        tokenized_input = [word2idx.get(word, 0) for word in words[-seq_length:]]\n",
        "        input_seq = torch.tensor(tokenized_input, dtype=torch.long).unsqueeze(0).to(device)\n",
        "        with torch.no_grad():\n",
        "            output = model(input_seq)\n",
        "        output_dist = output.div(temperature).exp()\n",
        "        predicted_idx = torch.multinomial(output_dist, num_samples=1).item()\n",
        "        predicted_word = idx2word.get(predicted_idx, \"\")\n",
        "        if predicted_word == \"\":\n",
        "            continue\n",
        "        words.append(predicted_word)\n",
        "    return \" \".join(words)\n",
        "\n",
        "# Gradio UI\n",
        "gram_ui = gr.Interface(\n",
        "    fn=generate_poetry,\n",
        "    inputs=[\n",
        "        gr.Textbox(label=\"Enter a seed word or phrase\"),\n",
        "        gr.Slider(5, 50, value=20, step=1, label=\"Number of words\"),\n",
        "        gr.Slider(0.5, 2.0, value=1.0, step=0.1, label=\"Temperature\")\n",
        "    ],\n",
        "    outputs=\"text\",\n",
        "    title=\"Roman Urdu Poetry Generator\",\n",
        "    description=\"Enter a seed word to generate poetry based on an LSTM model trained on Roman Urdu poetry.\",\n",
        ")\n",
        "\n",
        "gram_ui.launch(share=True)\n"
      ],
      "metadata": {
        "id": "hM1CEzkXX_2x",
        "colab": {
          "base_uri": "https://localhost:8080/",
          "height": 646
        },
        "outputId": "4fee9633-f25b-48cf-cde0-09610e58014e"
      },
      "execution_count": null,
      "outputs": [
        {
          "output_type": "stream",
          "name": "stderr",
          "text": [
            "<ipython-input-8-ce09b427237a>:32: FutureWarning: You are using `torch.load` with `weights_only=False` (the current default value), which uses the default pickle module implicitly. It is possible to construct malicious pickle data which will execute arbitrary code during unpickling (See https://github.com/pytorch/pytorch/blob/main/SECURITY.md#untrusted-models for more details). In a future release, the default value for `weights_only` will be flipped to `True`. This limits the functions that could be executed during unpickling. Arbitrary objects will no longer be allowed to be loaded via this mode unless they are explicitly allowlisted by the user via `torch.serialization.add_safe_globals`. We recommend you start setting `weights_only=True` for any use case where you don't have full control of the loaded file. Please open an issue on GitHub for any issues related to this experimental feature.\n",
            "  model.load_state_dict(torch.load(\"best_model.pth\", map_location=device))\n"
          ]
        },
        {
          "output_type": "stream",
          "name": "stdout",
          "text": [
            "Colab notebook detected. To show errors in colab notebook, set debug=True in launch()\n",
            "* Running on public URL: https://8568bf832c4e149d13.gradio.live\n",
            "\n",
            "This share link expires in 72 hours. For free permanent hosting and GPU upgrades, run `gradio deploy` from the terminal in the working directory to deploy to Hugging Face Spaces (https://huggingface.co/spaces)\n"
          ]
        },
        {
          "output_type": "display_data",
          "data": {
            "text/plain": [
              "<IPython.core.display.HTML object>"
            ],
            "text/html": [
              "<div><iframe src=\"https://8568bf832c4e149d13.gradio.live\" width=\"100%\" height=\"500\" allow=\"autoplay; camera; microphone; clipboard-read; clipboard-write;\" frameborder=\"0\" allowfullscreen></iframe></div>"
            ]
          },
          "metadata": {}
        },
        {
          "output_type": "execute_result",
          "data": {
            "text/plain": []
          },
          "metadata": {},
          "execution_count": 8
        }
      ]
    }
  ]
}